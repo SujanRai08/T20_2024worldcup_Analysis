{
 "cells": [
  {
   "cell_type": "code",
   "execution_count": 1,
   "id": "80a979f4-d856-4b15-bc13-39845b8be139",
   "metadata": {},
   "outputs": [],
   "source": [
    "import pandas as pd\n",
    "import numpy as np\n",
    "from sklearn.model_selection import train_test_split\n",
    "from sklearn.preprocessing import StandardScaler"
   ]
  },
  {
   "cell_type": "code",
   "execution_count": 2,
   "id": "66ff0125-c5e7-4f3a-8d98-c65953b43b6b",
   "metadata": {},
   "outputs": [],
   "source": [
    "bowling_stats = pd.read_csv('Player Bowling Stats - Most Wickets.csv')"
   ]
  },
  {
   "cell_type": "code",
   "execution_count": 3,
   "id": "39090a62-0252-412d-b0ee-9238d67e2b4a",
   "metadata": {},
   "outputs": [],
   "source": [
    "# Clean data\n",
    "bowling_stats['Matches'] = pd.to_numeric(bowling_stats['Matches'], errors='coerce')\n",
    "bowling_stats['Overs'] = pd.to_numeric(bowling_stats['Overs'], errors='coerce')\n",
    "bowling_stats['Strike Rate'] = pd.to_numeric(bowling_stats['Strike Rate'], errors='coerce')\n",
    "bowling_stats['Wickets'] = pd.to_numeric(bowling_stats['Wickets'], errors='coerce')\n"
   ]
  },
  {
   "cell_type": "code",
   "execution_count": 4,
   "id": "40ca4add-e498-40c2-8bec-95b61c3c55f6",
   "metadata": {},
   "outputs": [],
   "source": [
    "bowling_stats.dropna(inplace=True)"
   ]
  },
  {
   "cell_type": "code",
   "execution_count": 6,
   "id": "eeb0cd50-c252-4add-a1cd-df6f1cb8f911",
   "metadata": {},
   "outputs": [
    {
     "name": "stderr",
     "output_type": "stream",
     "text": [
      "C:\\Users\\Acer\\AppData\\Local\\Programs\\Python\\Python312\\Lib\\site-packages\\keras\\src\\layers\\core\\dense.py:87: UserWarning: Do not pass an `input_shape`/`input_dim` argument to a layer. When using Sequential models, prefer using an `Input(shape)` object as the first layer in the model instead.\n",
      "  super().__init__(activity_regularizer=activity_regularizer, **kwargs)\n"
     ]
    },
    {
     "name": "stdout",
     "output_type": "stream",
     "text": [
      "Epoch 1/50\n",
      "\u001b[1m1/1\u001b[0m \u001b[32m━━━━━━━━━━━━━━━━━━━━\u001b[0m\u001b[37m\u001b[0m \u001b[1m2s\u001b[0m 2s/step - loss: 184.7703 - mean_absolute_error: 13.4625 - val_loss: 169.4483 - val_mean_absolute_error: 12.9175\n",
      "Epoch 2/50\n",
      "\u001b[1m1/1\u001b[0m \u001b[32m━━━━━━━━━━━━━━━━━━━━\u001b[0m\u001b[37m\u001b[0m \u001b[1m0s\u001b[0m 131ms/step - loss: 183.9010 - mean_absolute_error: 13.4284 - val_loss: 168.7138 - val_mean_absolute_error: 12.8908\n",
      "Epoch 3/50\n",
      "\u001b[1m1/1\u001b[0m \u001b[32m━━━━━━━━━━━━━━━━━━━━\u001b[0m\u001b[37m\u001b[0m \u001b[1m0s\u001b[0m 103ms/step - loss: 183.0521 - mean_absolute_error: 13.3951 - val_loss: 167.9870 - val_mean_absolute_error: 12.8644\n",
      "Epoch 4/50\n",
      "\u001b[1m1/1\u001b[0m \u001b[32m━━━━━━━━━━━━━━━━━━━━\u001b[0m\u001b[37m\u001b[0m \u001b[1m0s\u001b[0m 106ms/step - loss: 182.1950 - mean_absolute_error: 13.3615 - val_loss: 167.2863 - val_mean_absolute_error: 12.8388\n",
      "Epoch 5/50\n",
      "\u001b[1m1/1\u001b[0m \u001b[32m━━━━━━━━━━━━━━━━━━━━\u001b[0m\u001b[37m\u001b[0m \u001b[1m0s\u001b[0m 119ms/step - loss: 181.3667 - mean_absolute_error: 13.3288 - val_loss: 166.6150 - val_mean_absolute_error: 12.8142\n",
      "Epoch 6/50\n",
      "\u001b[1m1/1\u001b[0m \u001b[32m━━━━━━━━━━━━━━━━━━━━\u001b[0m\u001b[37m\u001b[0m \u001b[1m0s\u001b[0m 112ms/step - loss: 180.5486 - mean_absolute_error: 13.2963 - val_loss: 166.0025 - val_mean_absolute_error: 12.7915\n",
      "Epoch 7/50\n",
      "\u001b[1m1/1\u001b[0m \u001b[32m━━━━━━━━━━━━━━━━━━━━\u001b[0m\u001b[37m\u001b[0m \u001b[1m0s\u001b[0m 108ms/step - loss: 179.7603 - mean_absolute_error: 13.2648 - val_loss: 165.3775 - val_mean_absolute_error: 12.7683\n",
      "Epoch 8/50\n",
      "\u001b[1m1/1\u001b[0m \u001b[32m━━━━━━━━━━━━━━━━━━━━\u001b[0m\u001b[37m\u001b[0m \u001b[1m0s\u001b[0m 116ms/step - loss: 178.9992 - mean_absolute_error: 13.2344 - val_loss: 164.7446 - val_mean_absolute_error: 12.7447\n",
      "Epoch 9/50\n",
      "\u001b[1m1/1\u001b[0m \u001b[32m━━━━━━━━━━━━━━━━━━━━\u001b[0m\u001b[37m\u001b[0m \u001b[1m0s\u001b[0m 141ms/step - loss: 178.2462 - mean_absolute_error: 13.2042 - val_loss: 164.1176 - val_mean_absolute_error: 12.7213\n",
      "Epoch 10/50\n",
      "\u001b[1m1/1\u001b[0m \u001b[32m━━━━━━━━━━━━━━━━━━━━\u001b[0m\u001b[37m\u001b[0m \u001b[1m0s\u001b[0m 122ms/step - loss: 177.5211 - mean_absolute_error: 13.1749 - val_loss: 163.5149 - val_mean_absolute_error: 12.6988\n",
      "Epoch 11/50\n",
      "\u001b[1m1/1\u001b[0m \u001b[32m━━━━━━━━━━━━━━━━━━━━\u001b[0m\u001b[37m\u001b[0m \u001b[1m0s\u001b[0m 107ms/step - loss: 176.7913 - mean_absolute_error: 13.1453 - val_loss: 162.9173 - val_mean_absolute_error: 12.6764\n",
      "Epoch 12/50\n",
      "\u001b[1m1/1\u001b[0m \u001b[32m━━━━━━━━━━━━━━━━━━━━\u001b[0m\u001b[37m\u001b[0m \u001b[1m0s\u001b[0m 137ms/step - loss: 176.0818 - mean_absolute_error: 13.1164 - val_loss: 162.3113 - val_mean_absolute_error: 12.6536\n",
      "Epoch 13/50\n",
      "\u001b[1m1/1\u001b[0m \u001b[32m━━━━━━━━━━━━━━━━━━━━\u001b[0m\u001b[37m\u001b[0m \u001b[1m0s\u001b[0m 115ms/step - loss: 175.3786 - mean_absolute_error: 13.0877 - val_loss: 161.6699 - val_mean_absolute_error: 12.6295\n",
      "Epoch 14/50\n",
      "\u001b[1m1/1\u001b[0m \u001b[32m━━━━━━━━━━━━━━━━━━━━\u001b[0m\u001b[37m\u001b[0m \u001b[1m0s\u001b[0m 182ms/step - loss: 174.6734 - mean_absolute_error: 13.0589 - val_loss: 161.0313 - val_mean_absolute_error: 12.6054\n",
      "Epoch 15/50\n",
      "\u001b[1m1/1\u001b[0m \u001b[32m━━━━━━━━━━━━━━━━━━━━\u001b[0m\u001b[37m\u001b[0m \u001b[1m0s\u001b[0m 110ms/step - loss: 173.9782 - mean_absolute_error: 13.0305 - val_loss: 160.4265 - val_mean_absolute_error: 12.5825\n",
      "Epoch 16/50\n",
      "\u001b[1m1/1\u001b[0m \u001b[32m━━━━━━━━━━━━━━━━━━━━\u001b[0m\u001b[37m\u001b[0m \u001b[1m0s\u001b[0m 111ms/step - loss: 173.2772 - mean_absolute_error: 13.0016 - val_loss: 159.8167 - val_mean_absolute_error: 12.5593\n",
      "Epoch 17/50\n",
      "\u001b[1m1/1\u001b[0m \u001b[32m━━━━━━━━━━━━━━━━━━━━\u001b[0m\u001b[37m\u001b[0m \u001b[1m0s\u001b[0m 119ms/step - loss: 172.5573 - mean_absolute_error: 12.9717 - val_loss: 159.1629 - val_mean_absolute_error: 12.5342\n",
      "Epoch 18/50\n",
      "\u001b[1m1/1\u001b[0m \u001b[32m━━━━━━━━━━━━━━━━━━━━\u001b[0m\u001b[37m\u001b[0m \u001b[1m0s\u001b[0m 171ms/step - loss: 171.8269 - mean_absolute_error: 12.9413 - val_loss: 158.4831 - val_mean_absolute_error: 12.5082\n",
      "Epoch 19/50\n",
      "\u001b[1m1/1\u001b[0m \u001b[32m━━━━━━━━━━━━━━━━━━━━\u001b[0m\u001b[37m\u001b[0m \u001b[1m0s\u001b[0m 126ms/step - loss: 171.0709 - mean_absolute_error: 12.9097 - val_loss: 157.7916 - val_mean_absolute_error: 12.4816\n",
      "Epoch 20/50\n",
      "\u001b[1m1/1\u001b[0m \u001b[32m━━━━━━━━━━━━━━━━━━━━\u001b[0m\u001b[37m\u001b[0m \u001b[1m0s\u001b[0m 171ms/step - loss: 170.3034 - mean_absolute_error: 12.8774 - val_loss: 157.0816 - val_mean_absolute_error: 12.4542\n",
      "Epoch 21/50\n",
      "\u001b[1m1/1\u001b[0m \u001b[32m━━━━━━━━━━━━━━━━━━━━\u001b[0m\u001b[37m\u001b[0m \u001b[1m0s\u001b[0m 120ms/step - loss: 169.5256 - mean_absolute_error: 12.8447 - val_loss: 156.3626 - val_mean_absolute_error: 12.4264\n",
      "Epoch 22/50\n",
      "\u001b[1m1/1\u001b[0m \u001b[32m━━━━━━━━━━━━━━━━━━━━\u001b[0m\u001b[37m\u001b[0m \u001b[1m0s\u001b[0m 107ms/step - loss: 168.7339 - mean_absolute_error: 12.8112 - val_loss: 155.6368 - val_mean_absolute_error: 12.3983\n",
      "Epoch 23/50\n",
      "\u001b[1m1/1\u001b[0m \u001b[32m━━━━━━━━━━━━━━━━━━━━\u001b[0m\u001b[37m\u001b[0m \u001b[1m0s\u001b[0m 221ms/step - loss: 167.9363 - mean_absolute_error: 12.7772 - val_loss: 154.9047 - val_mean_absolute_error: 12.3699\n",
      "Epoch 24/50\n",
      "\u001b[1m1/1\u001b[0m \u001b[32m━━━━━━━━━━━━━━━━━━━━\u001b[0m\u001b[37m\u001b[0m \u001b[1m0s\u001b[0m 122ms/step - loss: 167.1291 - mean_absolute_error: 12.7426 - val_loss: 154.1650 - val_mean_absolute_error: 12.3411\n",
      "Epoch 25/50\n",
      "\u001b[1m1/1\u001b[0m \u001b[32m━━━━━━━━━━━━━━━━━━━━\u001b[0m\u001b[37m\u001b[0m \u001b[1m0s\u001b[0m 106ms/step - loss: 166.3092 - mean_absolute_error: 12.7074 - val_loss: 153.4468 - val_mean_absolute_error: 12.3129\n",
      "Epoch 26/50\n",
      "\u001b[1m1/1\u001b[0m \u001b[32m━━━━━━━━━━━━━━━━━━━━\u001b[0m\u001b[37m\u001b[0m \u001b[1m0s\u001b[0m 115ms/step - loss: 165.4770 - mean_absolute_error: 12.6715 - val_loss: 152.7181 - val_mean_absolute_error: 12.2843\n",
      "Epoch 27/50\n",
      "\u001b[1m1/1\u001b[0m \u001b[32m━━━━━━━━━━━━━━━━━━━━\u001b[0m\u001b[37m\u001b[0m \u001b[1m0s\u001b[0m 183ms/step - loss: 164.6277 - mean_absolute_error: 12.6347 - val_loss: 151.9730 - val_mean_absolute_error: 12.2549\n",
      "Epoch 28/50\n",
      "\u001b[1m1/1\u001b[0m \u001b[32m━━━━━━━━━━━━━━━━━━━━\u001b[0m\u001b[37m\u001b[0m \u001b[1m0s\u001b[0m 176ms/step - loss: 163.7601 - mean_absolute_error: 12.5971 - val_loss: 151.2079 - val_mean_absolute_error: 12.2246\n",
      "Epoch 29/50\n",
      "\u001b[1m1/1\u001b[0m \u001b[32m━━━━━━━━━━━━━━━━━━━━\u001b[0m\u001b[37m\u001b[0m \u001b[1m0s\u001b[0m 125ms/step - loss: 162.8748 - mean_absolute_error: 12.5585 - val_loss: 150.4287 - val_mean_absolute_error: 12.1938\n",
      "Epoch 30/50\n",
      "\u001b[1m1/1\u001b[0m \u001b[32m━━━━━━━━━━━━━━━━━━━━\u001b[0m\u001b[37m\u001b[0m \u001b[1m0s\u001b[0m 141ms/step - loss: 161.9677 - mean_absolute_error: 12.5189 - val_loss: 149.6306 - val_mean_absolute_error: 12.1620\n",
      "Epoch 31/50\n",
      "\u001b[1m1/1\u001b[0m \u001b[32m━━━━━━━━━━━━━━━━━━━━\u001b[0m\u001b[37m\u001b[0m \u001b[1m0s\u001b[0m 139ms/step - loss: 161.0357 - mean_absolute_error: 12.4780 - val_loss: 148.8153 - val_mean_absolute_error: 12.1295\n",
      "Epoch 32/50\n",
      "\u001b[1m1/1\u001b[0m \u001b[32m━━━━━━━━━━━━━━━━━━━━\u001b[0m\u001b[37m\u001b[0m \u001b[1m0s\u001b[0m 105ms/step - loss: 160.0870 - mean_absolute_error: 12.4363 - val_loss: 147.9742 - val_mean_absolute_error: 12.0957\n",
      "Epoch 33/50\n",
      "\u001b[1m1/1\u001b[0m \u001b[32m━━━━━━━━━━━━━━━━━━━━\u001b[0m\u001b[37m\u001b[0m \u001b[1m0s\u001b[0m 174ms/step - loss: 159.1233 - mean_absolute_error: 12.3937 - val_loss: 147.1178 - val_mean_absolute_error: 12.0613\n",
      "Epoch 34/50\n",
      "\u001b[1m1/1\u001b[0m \u001b[32m━━━━━━━━━━━━━━━━━━━━\u001b[0m\u001b[37m\u001b[0m \u001b[1m0s\u001b[0m 107ms/step - loss: 158.1364 - mean_absolute_error: 12.3498 - val_loss: 146.2459 - val_mean_absolute_error: 12.0261\n",
      "Epoch 35/50\n",
      "\u001b[1m1/1\u001b[0m \u001b[32m━━━━━━━━━━━━━━━━━━━━\u001b[0m\u001b[37m\u001b[0m \u001b[1m0s\u001b[0m 115ms/step - loss: 157.1243 - mean_absolute_error: 12.3046 - val_loss: 145.3406 - val_mean_absolute_error: 11.9894\n",
      "Epoch 36/50\n",
      "\u001b[1m1/1\u001b[0m \u001b[32m━━━━━━━━━━━━━━━━━━━━\u001b[0m\u001b[37m\u001b[0m \u001b[1m0s\u001b[0m 133ms/step - loss: 156.0935 - mean_absolute_error: 12.2582 - val_loss: 144.3811 - val_mean_absolute_error: 11.9505\n",
      "Epoch 37/50\n",
      "\u001b[1m1/1\u001b[0m \u001b[32m━━━━━━━━━━━━━━━━━━━━\u001b[0m\u001b[37m\u001b[0m \u001b[1m0s\u001b[0m 138ms/step - loss: 155.0467 - mean_absolute_error: 12.2109 - val_loss: 143.4017 - val_mean_absolute_error: 11.9107\n",
      "Epoch 38/50\n",
      "\u001b[1m1/1\u001b[0m \u001b[32m━━━━━━━━━━━━━━━━━━━━\u001b[0m\u001b[37m\u001b[0m \u001b[1m0s\u001b[0m 178ms/step - loss: 153.9815 - mean_absolute_error: 12.1625 - val_loss: 142.4063 - val_mean_absolute_error: 11.8700\n",
      "Epoch 39/50\n",
      "\u001b[1m1/1\u001b[0m \u001b[32m━━━━━━━━━━━━━━━━━━━━\u001b[0m\u001b[37m\u001b[0m \u001b[1m0s\u001b[0m 131ms/step - loss: 152.8946 - mean_absolute_error: 12.1128 - val_loss: 141.3804 - val_mean_absolute_error: 11.8278\n",
      "Epoch 40/50\n",
      "\u001b[1m1/1\u001b[0m \u001b[32m━━━━━━━━━━━━━━━━━━━━\u001b[0m\u001b[37m\u001b[0m \u001b[1m0s\u001b[0m 142ms/step - loss: 151.7872 - mean_absolute_error: 12.0619 - val_loss: 140.3176 - val_mean_absolute_error: 11.7839\n",
      "Epoch 41/50\n",
      "\u001b[1m1/1\u001b[0m \u001b[32m━━━━━━━━━━━━━━━━━━━━\u001b[0m\u001b[37m\u001b[0m \u001b[1m0s\u001b[0m 142ms/step - loss: 150.6585 - mean_absolute_error: 12.0096 - val_loss: 139.2299 - val_mean_absolute_error: 11.7386\n",
      "Epoch 42/50\n",
      "\u001b[1m1/1\u001b[0m \u001b[32m━━━━━━━━━━━━━━━━━━━━\u001b[0m\u001b[37m\u001b[0m \u001b[1m0s\u001b[0m 316ms/step - loss: 149.5055 - mean_absolute_error: 11.9560 - val_loss: 138.1114 - val_mean_absolute_error: 11.6920\n",
      "Epoch 43/50\n",
      "\u001b[1m1/1\u001b[0m \u001b[32m━━━━━━━━━━━━━━━━━━━━\u001b[0m\u001b[37m\u001b[0m \u001b[1m0s\u001b[0m 127ms/step - loss: 148.3310 - mean_absolute_error: 11.9010 - val_loss: 136.9712 - val_mean_absolute_error: 11.6442\n",
      "Epoch 44/50\n",
      "\u001b[1m1/1\u001b[0m \u001b[32m━━━━━━━━━━━━━━━━━━━━\u001b[0m\u001b[37m\u001b[0m \u001b[1m0s\u001b[0m 110ms/step - loss: 147.1342 - mean_absolute_error: 11.8446 - val_loss: 135.8101 - val_mean_absolute_error: 11.5953\n",
      "Epoch 45/50\n",
      "\u001b[1m1/1\u001b[0m \u001b[32m━━━━━━━━━━━━━━━━━━━━\u001b[0m\u001b[37m\u001b[0m \u001b[1m0s\u001b[0m 103ms/step - loss: 145.9161 - mean_absolute_error: 11.7869 - val_loss: 134.6283 - val_mean_absolute_error: 11.5452\n",
      "Epoch 46/50\n",
      "\u001b[1m1/1\u001b[0m \u001b[32m━━━━━━━━━━━━━━━━━━━━\u001b[0m\u001b[37m\u001b[0m \u001b[1m0s\u001b[0m 107ms/step - loss: 144.6785 - mean_absolute_error: 11.7278 - val_loss: 133.4255 - val_mean_absolute_error: 11.4941\n",
      "Epoch 47/50\n",
      "\u001b[1m1/1\u001b[0m \u001b[32m━━━━━━━━━━━━━━━━━━━━\u001b[0m\u001b[37m\u001b[0m \u001b[1m0s\u001b[0m 120ms/step - loss: 143.4204 - mean_absolute_error: 11.6673 - val_loss: 132.1974 - val_mean_absolute_error: 11.4416\n",
      "Epoch 48/50\n",
      "\u001b[1m1/1\u001b[0m \u001b[32m━━━━━━━━━━━━━━━━━━━━\u001b[0m\u001b[37m\u001b[0m \u001b[1m0s\u001b[0m 135ms/step - loss: 142.1358 - mean_absolute_error: 11.6050 - val_loss: 130.9173 - val_mean_absolute_error: 11.3867\n",
      "Epoch 49/50\n",
      "\u001b[1m1/1\u001b[0m \u001b[32m━━━━━━━━━━━━━━━━━━━━\u001b[0m\u001b[37m\u001b[0m \u001b[1m0s\u001b[0m 107ms/step - loss: 140.8297 - mean_absolute_error: 11.5413 - val_loss: 129.6161 - val_mean_absolute_error: 11.3305\n",
      "Epoch 50/50\n",
      "\u001b[1m1/1\u001b[0m \u001b[32m━━━━━━━━━━━━━━━━━━━━\u001b[0m\u001b[37m\u001b[0m \u001b[1m0s\u001b[0m 111ms/step - loss: 139.5003 - mean_absolute_error: 11.4760 - val_loss: 128.2944 - val_mean_absolute_error: 11.2731\n",
      "\u001b[1m1/1\u001b[0m \u001b[32m━━━━━━━━━━━━━━━━━━━━\u001b[0m\u001b[37m\u001b[0m \u001b[1m0s\u001b[0m 56ms/step - loss: 141.6875 - mean_absolute_error: 11.6516\n",
      "Test MAE: 11.651626586914062\n"
     ]
    }
   ],
   "source": [
    "import tensorflow as tf\n",
    "from tensorflow import keras\n",
    "from keras.models import Sequential\n",
    "from keras.layers import Dense\n",
    "# Prepare the data\n",
    "X = bowling_stats[['Matches', 'Overs', 'Strike Rate']].values\n",
    "y = bowling_stats['Wickets'].values\n",
    "\n",
    "# Normalize the data\n",
    "scaler = StandardScaler()\n",
    "X_scaled = scaler.fit_transform(X)\n",
    "\n",
    "# Split the data\n",
    "X_train, X_test, y_train, y_test = train_test_split(X_scaled, y, test_size=0.2, random_state=42)\n",
    "\n",
    "# Define the model\n",
    "model = Sequential()\n",
    "model.add(Dense(64, input_dim=X_train.shape[1], activation='relu'))\n",
    "model.add(Dense(32, activation='relu'))\n",
    "model.add(Dense(1, activation='linear'))\n",
    "\n",
    "# Compile the model\n",
    "model.compile(optimizer='adam', loss='mean_squared_error', metrics=['mean_absolute_error'])\n",
    "\n",
    "# Train the model\n",
    "model.fit(X_train, y_train, epochs=50, batch_size=10, validation_split=0.2)\n",
    "\n",
    "# Evaluate the model\n",
    "loss, mae = model.evaluate(X_test, y_test)\n",
    "print(f\"Test MAE: {mae}\")"
   ]
  },
  {
   "cell_type": "code",
   "execution_count": 7,
   "id": "a0ab2697-9072-43c3-8604-92ebde99ea73",
   "metadata": {},
   "outputs": [
    {
     "name": "stdout",
     "output_type": "stream",
     "text": [
      "\u001b[1m1/1\u001b[0m \u001b[32m━━━━━━━━━━━━━━━━━━━━\u001b[0m\u001b[37m\u001b[0m \u001b[1m0s\u001b[0m 91ms/step\n"
     ]
    }
   ],
   "source": [
    "y_pred = model.predict(X_test)"
   ]
  },
  {
   "cell_type": "code",
   "execution_count": 8,
   "id": "b0294e7f-eef5-4e5f-99a9-98b079530e3f",
   "metadata": {},
   "outputs": [
    {
     "name": "stdout",
     "output_type": "stream",
     "text": [
      "   Actual  Predicted\n",
      "0      13   1.551424\n",
      "1      11   2.223374\n",
      "2      17   2.270321\n"
     ]
    }
   ],
   "source": [
    "comparison = pd.DataFrame({'Actual': y_test, 'Predicted': y_pred.flatten()})\n",
    "print(comparison)"
   ]
  },
  {
   "cell_type": "code",
   "execution_count": 10,
   "id": "a03b90b1-63ba-4caa-ad05-cdcbd9dc63a1",
   "metadata": {},
   "outputs": [
    {
     "data": {
      "image/png": "[encoded data removed]",
      "text/plain": [
       "<Figure size 1000x500 with 1 Axes>"
      ]
     },
     "metadata": {},
     "output_type": "display_data"
    }
   ],
   "source": [
    "import matplotlib.pyplot as plt\n",
    "%matplotlib inline\n",
    "# Visualize Predictions\n",
    "plt.figure(figsize=(10, 5))\n",
    "plt.plot(y_test, label='Actual Wickets', marker='o')\n",
    "plt.plot(y_pred, label='Predicted Wickets', marker='x')\n",
    "plt.legend()\n",
    "plt.title('Actual vs. Predicted Wickets')\n",
    "plt.show()"
   ]
  },
  {
   "cell_type": "code",
   "execution_count": null,
   "id": "caae36a1-70f2-4489-a39f-a3709b8b5f12",
   "metadata": {},
   "outputs": [],
   "source": []
  }
 ],
 "metadata": {
  "kernelspec": {
   "display_name": "Python 3 (ipykernel)",
   "language": "python",
   "name": "python3"
  },
  "language_info": {
   "codemirror_mode": {
    "name": "ipython",
    "version": 3
   },
   "file_extension": ".py",
   "mimetype": "text/x-python",
   "name": "python",
   "nbconvert_exporter": "python",
   "pygments_lexer": "ipython3",
   "version": "3.12.0"
  }
 },
 "nbformat": 4,
 "nbformat_minor": 5
}
